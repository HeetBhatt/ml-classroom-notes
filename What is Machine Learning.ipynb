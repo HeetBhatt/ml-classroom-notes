{
 "cells": [
  {
   "cell_type": "code",
   "execution_count": 1,
   "id": "89e4f684",
   "metadata": {},
   "outputs": [],
   "source": [
    "import numpy as np\n",
    "import matplotlib.pyplot as plt\n",
    "import pandas as pd"
   ]
  },
  {
   "cell_type": "code",
   "execution_count": 16,
   "id": "67d4d66b",
   "metadata": {},
   "outputs": [
    {
     "data": {
      "application/vnd.jupyter.widget-view+json": {
       "model_id": "c222630c83564c3496f61b65a7ce1034",
       "version_major": 2,
       "version_minor": 0
      },
      "text/plain": [
       "interactive(children=(FloatSlider(value=1.0, description='w', max=10.0, step=0.5), Output()), _dom_classes=('w…"
      ]
     },
     "metadata": {},
     "output_type": "display_data"
    }
   ],
   "source": [
    "import ipywidgets as widgets\n",
    "from sklearn.metrics import mean_squared_error \n",
    "\n",
    "data = pd.read_csv(\"XY1.csv\")\n",
    "x=np.array(data[\"X\"])\n",
    "y=np.array(data[\"Y\"])\n",
    "m=len(x)\n",
    "y_predict=np.zeros(m)\n",
    "@widgets.interact(w=(0,10,0.5),continuous_update=True)\n",
    "def compute(w=1):\n",
    "    b=0\n",
    "    for i in range(0,m):\n",
    "            y_predict[i]= w*x[i] + b\n",
    "    plt.title(\"X Y Prediction\")\n",
    "    plt.xlabel(\"X\")\n",
    "    plt.ylabel(\"Y\")\n",
    "    plt.plot(x,y_predict,c=\"b\")\n",
    "    plt.scatter(x,y,marker=\"X\",c=\"r\",lw=3)\n",
    "    print(mean_squared_error(y,y_predict))\n",
    "    plt.show()\n",
    "   "
   ]
  },
  {
   "cell_type": "code",
   "execution_count": 27,
   "id": "5361e694",
   "metadata": {},
   "outputs": [
    {
     "data": {
      "application/vnd.jupyter.widget-view+json": {
       "model_id": "f1e6b6a0e94e4030886dd756aa3c49db",
       "version_major": 2,
       "version_minor": 0
      },
      "text/plain": [
       "interactive(children=(FloatSlider(value=10.0, description='w', step=0.5), Output()), _dom_classes=('widget-int…"
      ]
     },
     "metadata": {},
     "output_type": "display_data"
    }
   ],
   "source": [
    "data = pd.read_csv(\"HousePrice2.csv\")\n",
    "x=np.array(data[\"Size\"])\n",
    "y=np.array(data[\"Price\"])\n",
    "from sklearn.metrics import mean_squared_error \n",
    "\n",
    "m=len(x)\n",
    "y_predict=np.zeros(m)\n",
    "@widgets.interact(w=(0,100,0.5),continuous_update=False)\n",
    "def compute(w=10):\n",
    "    b=450\n",
    "    for i in range(0,m):\n",
    "            y_predict[i]= w*x[i] + b\n",
    "    plt.title(\"House price prediction\")\n",
    "    plt.xlabel(\"Size in 1000sqf\")\n",
    "    plt.ylabel(\"Price in Thousands\")\n",
    "    plt.plot(x,y_predict,c=\"b\")\n",
    "    plt.scatter(x,y,marker=\"X\",c=\"r\",lw=3)\n",
    "    print(mean_squared_error(y,y_predict))\n",
    "    plt.show()"
   ]
  }
 ],
 "metadata": {
  "kernelspec": {
   "display_name": "Python 3",
   "language": "python",
   "name": "python3"
  },
  "language_info": {
   "codemirror_mode": {
    "name": "ipython",
    "version": 3
   },
   "file_extension": ".py",
   "mimetype": "text/x-python",
   "name": "python",
   "nbconvert_exporter": "python",
   "pygments_lexer": "ipython3",
   "version": "3.8.8"
  }
 },
 "nbformat": 4,
 "nbformat_minor": 5
}
