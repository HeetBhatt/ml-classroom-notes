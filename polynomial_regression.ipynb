{
 "cells": [
  {
   "cell_type": "markdown",
   "metadata": {},
   "source": [
    "polynomial regression"
   ]
  },
  {
   "cell_type": "code",
   "execution_count": 2,
   "metadata": {},
   "outputs": [],
   "source": [
    "# if our data is actualy more complex than a simple straight line. we can fit a\n",
    "# linear model to this non linear data by adding power to the features"
   ]
  },
  {
   "cell_type": "code",
   "execution_count": 3,
   "metadata": {},
   "outputs": [],
   "source": [
    "# let's generate some non-linear data\n",
    "import numpy as np"
   ]
  },
  {
   "cell_type": "code",
   "execution_count": 8,
   "metadata": {},
   "outputs": [
    {
     "data": {
      "text/plain": [
       "(100, 1)"
      ]
     },
     "execution_count": 8,
     "metadata": {},
     "output_type": "execute_result"
    }
   ],
   "source": [
    "m=100\n",
    "x = np.random.rand(m,1)\n",
    "y = x**2 + 2*x + np.random.randn(m,1)"
   ]
  },
  {
   "cell_type": "code",
   "execution_count": 9,
   "metadata": {},
   "outputs": [
    {
     "name": "stdout",
     "output_type": "stream",
     "text": [
      "(100, 1)\n",
      "(100, 1)\n"
     ]
    }
   ],
   "source": [
    "print(x.shape)\n",
    "print(y.shape)"
   ]
  },
  {
   "cell_type": "markdown",
   "metadata": {},
   "source": [
    "with the help of sklearn"
   ]
  },
  {
   "cell_type": "code",
   "execution_count": 28,
   "metadata": {},
   "outputs": [],
   "source": [
    "from sklearn.preprocessing import PolynomialFeatures\n",
    "poly_features = PolynomialFeatures(degree=2,include_bias=False)\n",
    "x_poly=poly_features.fit_transform(x)\n",
    "\n"
   ]
  },
  {
   "cell_type": "code",
   "execution_count": 29,
   "metadata": {},
   "outputs": [
    {
     "data": {
      "text/plain": [
       "array([[3.90474575e-01, 1.52470394e-01],\n",
       "       [9.57160238e-01, 9.16155721e-01],\n",
       "       [7.70912992e-01, 5.94306842e-01],\n",
       "       [6.03080872e-02, 3.63706538e-03],\n",
       "       [6.29549377e-01, 3.96332418e-01],\n",
       "       [7.90847439e-01, 6.25439672e-01],\n",
       "       [7.76775975e-01, 6.03380916e-01],\n",
       "       [3.59182344e-01, 1.29011956e-01],\n",
       "       [9.21353143e-01, 8.48891614e-01],\n",
       "       [4.62708194e-02, 2.14098873e-03],\n",
       "       [5.45483492e-01, 2.97552240e-01],\n",
       "       [7.25407464e-01, 5.26215989e-01],\n",
       "       [3.90462989e-01, 1.52461346e-01],\n",
       "       [2.84237388e-01, 8.07908928e-02],\n",
       "       [2.62556609e-01, 6.89359728e-02],\n",
       "       [3.34071959e-01, 1.11604074e-01],\n",
       "       [1.02344937e-01, 1.04744862e-02],\n",
       "       [8.47380857e-01, 7.18054317e-01],\n",
       "       [2.62604660e-01, 6.89612074e-02],\n",
       "       [1.11608439e-02, 1.24564436e-04],\n",
       "       [7.21576849e-02, 5.20673150e-03],\n",
       "       [4.67857386e-01, 2.18890533e-01],\n",
       "       [9.98510574e-01, 9.97023367e-01],\n",
       "       [7.32742737e-01, 5.36911919e-01],\n",
       "       [7.99657657e-01, 6.39452368e-01],\n",
       "       [6.50147470e-01, 4.22691733e-01],\n",
       "       [4.21254462e-01, 1.77455322e-01],\n",
       "       [7.63393829e-01, 5.82770139e-01],\n",
       "       [3.00730809e-01, 9.04390198e-02],\n",
       "       [7.35450886e-02, 5.40888005e-03],\n",
       "       [4.32459825e-01, 1.87021501e-01],\n",
       "       [5.96432876e-02, 3.55732175e-03],\n",
       "       [3.05601244e-01, 9.33921203e-02],\n",
       "       [3.97104791e-02, 1.57692215e-03],\n",
       "       [4.77985856e-01, 2.28470478e-01],\n",
       "       [3.11770906e-01, 9.72010979e-02],\n",
       "       [6.50719569e-01, 4.23435957e-01],\n",
       "       [7.56130699e-01, 5.71733634e-01],\n",
       "       [2.12975134e-01, 4.53584078e-02],\n",
       "       [9.16490883e-01, 8.39955539e-01],\n",
       "       [9.11219695e-01, 8.30321333e-01],\n",
       "       [3.66937201e-01, 1.34642910e-01],\n",
       "       [5.86110172e-01, 3.43525134e-01],\n",
       "       [7.39212086e-01, 5.46434508e-01],\n",
       "       [3.41989108e-01, 1.16956550e-01],\n",
       "       [4.44166385e-01, 1.97283778e-01],\n",
       "       [4.78145880e-01, 2.28623483e-01],\n",
       "       [3.63743151e-01, 1.32309080e-01],\n",
       "       [6.55313681e-01, 4.29436021e-01],\n",
       "       [7.91957205e-01, 6.27196214e-01],\n",
       "       [2.11407143e-01, 4.46929803e-02],\n",
       "       [6.54555372e-01, 4.28442735e-01],\n",
       "       [7.32033125e-01, 5.35872496e-01],\n",
       "       [1.86766717e-01, 3.48818065e-02],\n",
       "       [6.33863024e-01, 4.01782333e-01],\n",
       "       [9.03429917e-03, 8.16185615e-05],\n",
       "       [4.60467140e-01, 2.12029987e-01],\n",
       "       [7.48643777e-01, 5.60467505e-01],\n",
       "       [4.07809988e-02, 1.66308987e-03],\n",
       "       [6.50843168e-01, 4.23596829e-01],\n",
       "       [9.76651647e-01, 9.53848440e-01],\n",
       "       [2.36026999e-01, 5.57087445e-02],\n",
       "       [8.18726207e-01, 6.70312602e-01],\n",
       "       [5.92056733e-01, 3.50531175e-01],\n",
       "       [9.08759532e-01, 8.25843888e-01],\n",
       "       [5.59101385e-01, 3.12594359e-01],\n",
       "       [1.54740474e-01, 2.39446142e-02],\n",
       "       [5.10351668e-01, 2.60458825e-01],\n",
       "       [5.26968774e-01, 2.77696089e-01],\n",
       "       [4.26547733e-01, 1.81942969e-01],\n",
       "       [6.16410815e-01, 3.79962293e-01],\n",
       "       [7.15979935e-02, 5.12627267e-03],\n",
       "       [8.13027187e-01, 6.61013207e-01],\n",
       "       [6.26491443e-01, 3.92491528e-01],\n",
       "       [5.81412360e-02, 3.38040333e-03],\n",
       "       [3.69977475e-01, 1.36883332e-01],\n",
       "       [7.47906203e-01, 5.59363688e-01],\n",
       "       [3.00325724e-01, 9.01955403e-02],\n",
       "       [7.85968382e-02, 6.17746297e-03],\n",
       "       [3.57003253e-02, 1.27451323e-03],\n",
       "       [1.23195164e-01, 1.51770485e-02],\n",
       "       [9.37383388e-01, 8.78687615e-01],\n",
       "       [6.39568000e-01, 4.09047227e-01],\n",
       "       [3.83600738e-01, 1.47149526e-01],\n",
       "       [4.77475964e-01, 2.27983296e-01],\n",
       "       [5.60338143e-01, 3.13978834e-01],\n",
       "       [5.37358231e-01, 2.88753868e-01],\n",
       "       [1.75617989e-01, 3.08416781e-02],\n",
       "       [8.67693550e-01, 7.52892096e-01],\n",
       "       [6.61055506e-01, 4.36994383e-01],\n",
       "       [3.95049324e-01, 1.56063968e-01],\n",
       "       [3.07564579e-01, 9.45959704e-02],\n",
       "       [1.73214526e-01, 3.00032719e-02],\n",
       "       [9.42461309e-01, 8.88233319e-01],\n",
       "       [9.93708314e-01, 9.87456214e-01],\n",
       "       [9.97913314e-01, 9.95830983e-01],\n",
       "       [8.07204655e-01, 6.51579355e-01],\n",
       "       [4.88834853e-01, 2.38959514e-01],\n",
       "       [7.95824355e-01, 6.33336403e-01],\n",
       "       [6.15166848e-02, 3.78430251e-03]])"
      ]
     },
     "execution_count": 29,
     "metadata": {},
     "output_type": "execute_result"
    }
   ],
   "source": [
    "x_poly"
   ]
  },
  {
   "cell_type": "code",
   "execution_count": 30,
   "metadata": {},
   "outputs": [
    {
     "data": {
      "text/html": [
       "<style>#sk-container-id-5 {color: black;}#sk-container-id-5 pre{padding: 0;}#sk-container-id-5 div.sk-toggleable {background-color: white;}#sk-container-id-5 label.sk-toggleable__label {cursor: pointer;display: block;width: 100%;margin-bottom: 0;padding: 0.3em;box-sizing: border-box;text-align: center;}#sk-container-id-5 label.sk-toggleable__label-arrow:before {content: \"▸\";float: left;margin-right: 0.25em;color: #696969;}#sk-container-id-5 label.sk-toggleable__label-arrow:hover:before {color: black;}#sk-container-id-5 div.sk-estimator:hover label.sk-toggleable__label-arrow:before {color: black;}#sk-container-id-5 div.sk-toggleable__content {max-height: 0;max-width: 0;overflow: hidden;text-align: left;background-color: #f0f8ff;}#sk-container-id-5 div.sk-toggleable__content pre {margin: 0.2em;color: black;border-radius: 0.25em;background-color: #f0f8ff;}#sk-container-id-5 input.sk-toggleable__control:checked~div.sk-toggleable__content {max-height: 200px;max-width: 100%;overflow: auto;}#sk-container-id-5 input.sk-toggleable__control:checked~label.sk-toggleable__label-arrow:before {content: \"▾\";}#sk-container-id-5 div.sk-estimator input.sk-toggleable__control:checked~label.sk-toggleable__label {background-color: #d4ebff;}#sk-container-id-5 div.sk-label input.sk-toggleable__control:checked~label.sk-toggleable__label {background-color: #d4ebff;}#sk-container-id-5 input.sk-hidden--visually {border: 0;clip: rect(1px 1px 1px 1px);clip: rect(1px, 1px, 1px, 1px);height: 1px;margin: -1px;overflow: hidden;padding: 0;position: absolute;width: 1px;}#sk-container-id-5 div.sk-estimator {font-family: monospace;background-color: #f0f8ff;border: 1px dotted black;border-radius: 0.25em;box-sizing: border-box;margin-bottom: 0.5em;}#sk-container-id-5 div.sk-estimator:hover {background-color: #d4ebff;}#sk-container-id-5 div.sk-parallel-item::after {content: \"\";width: 100%;border-bottom: 1px solid gray;flex-grow: 1;}#sk-container-id-5 div.sk-label:hover label.sk-toggleable__label {background-color: #d4ebff;}#sk-container-id-5 div.sk-serial::before {content: \"\";position: absolute;border-left: 1px solid gray;box-sizing: border-box;top: 0;bottom: 0;left: 50%;z-index: 0;}#sk-container-id-5 div.sk-serial {display: flex;flex-direction: column;align-items: center;background-color: white;padding-right: 0.2em;padding-left: 0.2em;position: relative;}#sk-container-id-5 div.sk-item {position: relative;z-index: 1;}#sk-container-id-5 div.sk-parallel {display: flex;align-items: stretch;justify-content: center;background-color: white;position: relative;}#sk-container-id-5 div.sk-item::before, #sk-container-id-5 div.sk-parallel-item::before {content: \"\";position: absolute;border-left: 1px solid gray;box-sizing: border-box;top: 0;bottom: 0;left: 50%;z-index: -1;}#sk-container-id-5 div.sk-parallel-item {display: flex;flex-direction: column;z-index: 1;position: relative;background-color: white;}#sk-container-id-5 div.sk-parallel-item:first-child::after {align-self: flex-end;width: 50%;}#sk-container-id-5 div.sk-parallel-item:last-child::after {align-self: flex-start;width: 50%;}#sk-container-id-5 div.sk-parallel-item:only-child::after {width: 0;}#sk-container-id-5 div.sk-dashed-wrapped {border: 1px dashed gray;margin: 0 0.4em 0.5em 0.4em;box-sizing: border-box;padding-bottom: 0.4em;background-color: white;}#sk-container-id-5 div.sk-label label {font-family: monospace;font-weight: bold;display: inline-block;line-height: 1.2em;}#sk-container-id-5 div.sk-label-container {text-align: center;}#sk-container-id-5 div.sk-container {/* jupyter's `normalize.less` sets `[hidden] { display: none; }` but bootstrap.min.css set `[hidden] { display: none !important; }` so we also need the `!important` here to be able to override the default hidden behavior on the sphinx rendered scikit-learn.org. See: https://github.com/scikit-learn/scikit-learn/issues/21755 */display: inline-block !important;position: relative;}#sk-container-id-5 div.sk-text-repr-fallback {display: none;}</style><div id=\"sk-container-id-5\" class=\"sk-top-container\"><div class=\"sk-text-repr-fallback\"><pre>LinearRegression()</pre><b>In a Jupyter environment, please rerun this cell to show the HTML representation or trust the notebook. <br />On GitHub, the HTML representation is unable to render, please try loading this page with nbviewer.org.</b></div><div class=\"sk-container\" hidden><div class=\"sk-item\"><div class=\"sk-estimator sk-toggleable\"><input class=\"sk-toggleable__control sk-hidden--visually\" id=\"sk-estimator-id-5\" type=\"checkbox\" checked><label for=\"sk-estimator-id-5\" class=\"sk-toggleable__label sk-toggleable__label-arrow\">LinearRegression</label><div class=\"sk-toggleable__content\"><pre>LinearRegression()</pre></div></div></div></div></div>"
      ],
      "text/plain": [
       "LinearRegression()"
      ]
     },
     "execution_count": 30,
     "metadata": {},
     "output_type": "execute_result"
    }
   ],
   "source": [
    "from sklearn.linear_model import LinearRegression\n",
    "lin_reg = LinearRegression()\n",
    "lin_reg.fit(x_poly,y)\n"
   ]
  },
  {
   "cell_type": "code",
   "execution_count": 31,
   "metadata": {},
   "outputs": [
    {
     "data": {
      "text/plain": [
       "(array([0.03298175]), array([[1.99273873, 1.02992887]]))"
      ]
     },
     "execution_count": 31,
     "metadata": {},
     "output_type": "execute_result"
    }
   ],
   "source": [
    "lin_reg.intercept_,lin_reg.coef_"
   ]
  },
  {
   "cell_type": "code",
   "execution_count": 33,
   "metadata": {},
   "outputs": [],
   "source": [
    "# how to know whther our data is complex or not?\n",
    "# let's try to do this with the help of graph\n",
    "import matplotlib.pyplot as plt\n",
    "from sklearn.model_selection import train_test_split\n",
    "from sklearn.metrics import mean_squared_error"
   ]
  },
  {
   "cell_type": "code",
   "execution_count": 38,
   "metadata": {},
   "outputs": [
    {
     "data": {
      "image/png": "[encoded data removed]",
      "text/plain": [
       "<Figure size 640x480 with 1 Axes>"
      ]
     },
     "metadata": {},
     "output_type": "display_data"
    }
   ],
   "source": [
    "def plot_learning_curves(model,x,y):\n",
    "    X_train,X_val,y_train,y_val = train_test_split(x,y,test_size = 0.2)\n",
    "    train_errors,val_errors = [],[]\n",
    "    for m in range(1, len(X_train)):\n",
    "        model.fit(X_train[:m], y_train[:m])\n",
    "        y_train_predict = model.predict(X_train[:m])\n",
    "        y_val_predict = model.predict(X_val)\n",
    "        train_errors.append(mean_squared_error(y_train[:m], y_train_predict))\n",
    "        val_errors.append(mean_squared_error(y_val, y_val_predict))\n",
    "    plt.plot(np.sqrt(train_errors), \"r-\", linewidth=2, label=\"train\")\n",
    "    plt.plot(np.sqrt(val_errors), \"b-+\", linewidth=3, label=\"val\")\n",
    "lin_reg = LinearRegression()\n",
    "lin_reg.fit(x,y)\n",
    "plot_learning_curves(lin_reg,x,y)"
   ]
  },
  {
   "cell_type": "markdown",
   "metadata": {},
   "source": [
    "Ridge Regression"
   ]
  },
  {
   "cell_type": "code",
   "execution_count": 40,
   "metadata": {},
   "outputs": [
    {
     "data": {
      "text/plain": [
       "array([[3.78535621]])"
      ]
     },
     "execution_count": 40,
     "metadata": {},
     "output_type": "execute_result"
    }
   ],
   "source": [
    "from sklearn.linear_model import Ridge\n",
    "ridge_reg = Ridge(alpha = 1,solver = \"cholesky\")\n",
    "ridge_reg.fit(x,y)\n",
    "ridge_reg.predict([[1.4]])"
   ]
  },
  {
   "cell_type": "code",
   "execution_count": null,
   "metadata": {},
   "outputs": [],
   "source": []
  }
 ],
 "metadata": {
  "kernelspec": {
   "display_name": "Python 3",
   "language": "python",
   "name": "python3"
  },
  "language_info": {
   "codemirror_mode": {
    "name": "ipython",
    "version": 3
   },
   "file_extension": ".py",
   "mimetype": "text/x-python",
   "name": "python",
   "nbconvert_exporter": "python",
   "pygments_lexer": "ipython3",
   "version": "3.11.4"
  },
  "orig_nbformat": 4
 },
 "nbformat": 4,
 "nbformat_minor": 2
}
